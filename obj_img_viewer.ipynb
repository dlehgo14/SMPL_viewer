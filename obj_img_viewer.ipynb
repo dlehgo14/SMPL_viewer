{
 "cells": [
  {
   "cell_type": "code",
   "execution_count": 1,
   "metadata": {},
   "outputs": [],
   "source": [
    "import vtk\n",
    "from PIL import Image\n",
    "ColorBackground = [0.0, 0.0, 0.0]\n",
    "obj_path = './obj/mesh.obj'"
   ]
  },
  {
   "cell_type": "code",
   "execution_count": 4,
   "metadata": {},
   "outputs": [],
   "source": [
    "def render(obj_path, png_path = './screenshot.png'):\n",
    "    reader = vtk.vtkOBJReader()\n",
    "    reader.SetFileName(obj_path)\n",
    "    reader.Update()\n",
    "\n",
    "    mapper = vtk.vtkPolyDataMapper()\n",
    "    if vtk.VTK_MAJOR_VERSION <= 5:\n",
    "         mapper.SetInput(reader.GetOutput())\n",
    "    else:\n",
    "         mapper.SetInputConnection(reader.GetOutputPort())\n",
    "    actor = vtk.vtkActor()\n",
    "    actor.SetMapper(mapper)\n",
    "\n",
    "    # Create a rendering window and renderer\n",
    "    ren = vtk.vtkRenderer()\n",
    "    ren.SetBackground(ColorBackground)\n",
    "    renWin = vtk.vtkRenderWindow()\n",
    "    renWin.AddRenderer(ren)\n",
    "\n",
    "    # Create a renderwindowinteractor\n",
    "    #iren = vtk.vtkRenderWindowInteractor()\n",
    "    #iren.SetRenderWindow(renWin)\n",
    "\n",
    "    # Assign actor to the renderer\n",
    "    ren.AddActor(actor)\n",
    "    renWin.Render()\n",
    "\n",
    "    # screenshot code:\n",
    "    w2if = vtk.vtkWindowToImageFilter()\n",
    "    w2if.SetInput(renWin)\n",
    "    w2if.Update()\n",
    "\n",
    "    writer = vtk.vtkPNGWriter()\n",
    "    writer.SetFileName(png_path)\n",
    "    writer.SetInputData(w2if.GetOutput())\n",
    "    writer.Write()\n",
    "    \n",
    "    renWin.RemoveRenderer(ren)\n",
    "    \n",
    "    return(png_path)\n",
    "\n",
    "    # Enable user interface interactor\n",
    "    #iren.Initialize()\n",
    "    #iren.Start()"
   ]
  },
  {
   "cell_type": "code",
   "execution_count": 6,
   "metadata": {},
   "outputs": [
    {
     "data": {
      "image/png": "[encoded data removed]",
      "text/plain": [
       "<PIL.PngImagePlugin.PngImageFile image mode=RGB size=300x300 at 0x1A59922C470>"
      ]
     },
     "execution_count": 6,
     "metadata": {},
     "output_type": "execute_result"
    }
   ],
   "source": [
    "betas = [2,-1,0,0,0,0,0,0,0,0] \n",
    "obj_path = './obj'\n",
    "for i, beta in enumerate(betas):\n",
    "    if i%3 == 0:\n",
    "        obj_path += ('/' + str(beta))\n",
    "    else:\n",
    "        obj_path += ('_' + str(beta))\n",
    "obj_path += '_mesh.obj'\n",
    "\n",
    "Image.open(render(obj_path))"
   ]
  },
  {
   "cell_type": "code",
   "execution_count": 7,
   "metadata": {},
   "outputs": [],
   "source": [
    "import tkinter as tk"
   ]
  },
  {
   "cell_type": "code",
   "execution_count": 136,
   "metadata": {},
   "outputs": [],
   "source": [
    "betas = None    \n",
    "class ImageViewer():\n",
    "\n",
    "    def __init__(self, window):\n",
    "        self.canvas = tk.Canvas(window, width=600, height=600)\n",
    "        self.canvas.grid(row=10, column=0)\n",
    "\n",
    "        self.image_on_canvas = self.canvas.create_image(0, 0, anchor=tk.NW)\n",
    "        \n",
    "        self.betas = [0,0,0,0,0,0,0,0,0,0]\n",
    "        \n",
    "        def select1(s):\n",
    "            self.betas[0] = int(s)\n",
    "            self.view_pic()\n",
    "        def select2(s):\n",
    "            self.betas[1] = int(s)\n",
    "            self.view_pic()\n",
    "        def select3(s):\n",
    "            self.betas[2] = int(s)\n",
    "            self.view_pic()\n",
    "        def select4(s):\n",
    "            self.betas[3] = int(s)\n",
    "            self.view_pic()\n",
    "        def select5(s):\n",
    "            self.betas[4] = int(s)\n",
    "            self.view_pic()\n",
    "        def select6(s):\n",
    "            self.betas[5] = int(s)\n",
    "            self.view_pic()\n",
    "        def select7(s):\n",
    "            self.betas[6] = int(s)\n",
    "            self.view_pic()\n",
    "        def select8(s):\n",
    "            self.betas[7] = int(s)\n",
    "            self.view_pic()\n",
    "        def select9(s):\n",
    "            self.betas[8] = int(s)\n",
    "            self.view_pic()\n",
    "        def select10(s):\n",
    "            self.betas[9] = int(s)\n",
    "            self.view_pic()\n",
    "        var = []\n",
    "        scale = []\n",
    "        label = []\n",
    "        commands = [select1,select2,select3,select4,select5,select6,select7,select8,select9,select10]\n",
    "        for i in range(10):\n",
    "            var.append(tk.IntVar())\n",
    "            scale.append(tk.Scale(window, variable=var, command=commands[i], orient=\"horizontal\", \n",
    "                                  showvalue=False, tickinterval=1, from_=-2, to=2, length=300))\n",
    "            scale[-1].grid(row=i, column = 0)\n",
    "    def view_pic(self):\n",
    "        obj_path = './obj'\n",
    "        for i, beta in enumerate(self.betas):\n",
    "            if i%3 == 0:\n",
    "                obj_path += ('/' + str(beta))\n",
    "            else:\n",
    "                obj_path += ('_' + str(beta))\n",
    "        obj_path += '_mesh.obj'\n",
    "        img_path = render(obj_path)\n",
    "        self.img = tk.PhotoImage(file=img_path)\n",
    "        self.canvas.itemconfig(self.image_on_canvas, image=self.img)\n",
    "    \n"
   ]
  },
  {
   "cell_type": "code",
   "execution_count": 138,
   "metadata": {},
   "outputs": [],
   "source": [
    "window = tk.Tk()\n",
    "window.title(\"SMPL Image Viewer\")\n",
    "ImageViewer(window)\n",
    "window.mainloop()"
   ]
  },
  {
   "cell_type": "code",
   "execution_count": 108,
   "metadata": {},
   "outputs": [
    {
     "name": "stdout",
     "output_type": "stream",
     "text": [
      "None\n"
     ]
    }
   ],
   "source": [
    "print(canvas)"
   ]
  },
  {
   "cell_type": "code",
   "execution_count": null,
   "metadata": {},
   "outputs": [],
   "source": []
  }
 ],
 "metadata": {
  "kernelspec": {
   "display_name": "Python 3",
   "language": "python",
   "name": "python3"
  },
  "language_info": {
   "codemirror_mode": {
    "name": "ipython",
    "version": 3
   },
   "file_extension": ".py",
   "mimetype": "text/x-python",
   "name": "python",
   "nbconvert_exporter": "python",
   "pygments_lexer": "ipython3",
   "version": "3.7.3"
  }
 },
 "nbformat": 4,
 "nbformat_minor": 2
}
